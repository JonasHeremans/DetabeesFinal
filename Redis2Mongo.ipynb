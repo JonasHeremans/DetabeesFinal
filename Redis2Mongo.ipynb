{
 "cells": [
  {
   "cell_type": "code",
   "execution_count": 1,
   "id": "4e82427f",
   "metadata": {},
   "outputs": [],
   "source": [
    "###Libs importeren\n",
    "import redis\n",
    "import ast\n",
    "from pymongo import MongoClient\n",
    "import time"
   ]
  },
  {
   "cell_type": "code",
   "execution_count": 2,
   "id": "f4b2340e",
   "metadata": {},
   "outputs": [],
   "source": [
    "##connecties regelen\n",
    "redisCon = redis.Redis(host=\"localhost\", port=8081)\n",
    "client = MongoClient(\"mongodb://127.0.0.1:8080\")"
   ]
  },
  {
   "cell_type": "code",
   "execution_count": null,
   "id": "abad51fa",
   "metadata": {},
   "outputs": [
    {
     "name": "stdout",
     "output_type": "stream",
     "text": [
      "minuutje wachten\n",
      "volgende lading\n",
      "47b10ffc1bd83527320b6c463830691f4b4854e013fd30735995fa434ebe786c\n",
      "{'_id': '47b10ffc1bd83527320b6c463830691f4b4854e013fd30735995fa434ebe786c', 'Time': '13:59', 'BTC-value': 154.54218141, 'USD-value': 6899432.15}\n",
      "minuutje wachten\n",
      "volgende lading\n",
      "1bed45ac8fa63f2ed94c483bcfcb2f2e546d9cb715f0167fbb6b63b35d01a235\n",
      "{'_id': '1bed45ac8fa63f2ed94c483bcfcb2f2e546d9cb715f0167fbb6b63b35d01a235', 'Time': '13:59', 'BTC-value': 161.82433579, 'USD-value': 7224539.05}\n",
      "minuutje wachten\n",
      "volgende lading\n",
      "762856859e94fe0fc289381e9acf159265a9b1ef1f4eed5ee7ca406aace81a71\n",
      "{'_id': '762856859e94fe0fc289381e9acf159265a9b1ef1f4eed5ee7ca406aace81a71', 'Time': '14:00', 'BTC-value': 191.55582025, 'USD-value': 8551760.57}\n",
      "minuutje wachten\n",
      "volgende lading\n",
      "f47c63306bc8c6999cfcb167a28e03d3094f5538a1465c31688671db3d0a1925\n",
      "{'_id': 'f47c63306bc8c6999cfcb167a28e03d3094f5538a1465c31688671db3d0a1925', 'Time': '14:01', 'BTC-value': 272.35836127, 'USD-value': 12158897.05}\n",
      "minuutje wachten\n",
      "volgende lading\n",
      "e0ae092a0ec047a7ed0e860f0b5641f95281fc2df4dcfc5b6bf6eba1bee404dd\n",
      "{'_id': 'e0ae092a0ec047a7ed0e860f0b5641f95281fc2df4dcfc5b6bf6eba1bee404dd', 'Time': '14:02', 'BTC-value': 276.44639608, 'USD-value': 12341399.22}\n",
      "minuutje wachten\n",
      "volgende lading\n",
      "minuutje wachten\n",
      "volgende lading\n",
      "bd173fe8b461eefd0db8a7e782d27499314447639922740ebe82c2ec6a6699c8\n",
      "{'_id': 'bd173fe8b461eefd0db8a7e782d27499314447639922740ebe82c2ec6a6699c8', 'Time': '14:04', 'BTC-value': 454.89272345, 'USD-value': 20300811.45}\n",
      "minuutje wachten\n",
      "volgende lading\n",
      "minuutje wachten\n",
      "volgende lading\n",
      "3bbacea813bf70479af199f74220b2984139cd00de1cc2f18229738bf3972b42\n",
      "{'_id': '3bbacea813bf70479af199f74220b2984139cd00de1cc2f18229738bf3972b42', 'Time': '14:06', 'BTC-value': 248.95493937, 'USD-value': 11110064.78}\n",
      "minuutje wachten\n",
      "volgende lading\n",
      "a49a2e0f451e579a32c4ec826bdd0857e0993710eb72cf6a7783ba015a45fe1f\n",
      "{'_id': 'a49a2e0f451e579a32c4ec826bdd0857e0993710eb72cf6a7783ba015a45fe1f', 'Time': '14:07', 'BTC-value': 306.88171488, 'USD-value': 13697137.51}\n",
      "minuutje wachten\n",
      "volgende lading\n",
      "d3b994b0eeabe5e4cee40052180f0f0766b3e66c65748da4d7de577fc7904996\n",
      "{'_id': 'd3b994b0eeabe5e4cee40052180f0f0766b3e66c65748da4d7de577fc7904996', 'Time': '14:08', 'BTC-value': 321.08716393, 'USD-value': 14331173.29}\n",
      "minuutje wachten\n",
      "volgende lading\n",
      "d3d16d30de3a87ae705b03f359c27740e206ef5cf8e2ddf92e590ea5469a9808\n",
      "{'_id': 'd3d16d30de3a87ae705b03f359c27740e206ef5cf8e2ddf92e590ea5469a9808', 'Time': '14:09', 'BTC-value': 20.18136552, 'USD-value': 901057.41}\n",
      "minuutje wachten\n",
      "volgende lading\n",
      "9b5727cccdb652327758f5aae15e1e8462333cd643ed00378ae33d82fd606add\n",
      "{'_id': '9b5727cccdb652327758f5aae15e1e8462333cd643ed00378ae33d82fd606add', 'Time': '14:10', 'BTC-value': 26.47362038, 'USD-value': 1181993.94}\n",
      "minuutje wachten\n"
     ]
    }
   ],
   "source": [
    "while True:\n",
    "        print(\"minuutje wachten\")\n",
    "        time.sleep(60)\n",
    "        print(\"volgende lading\")\n",
    "        BTC = 0\n",
    "        BTC_dict = {}\n",
    "\n",
    "        ##hoogste value van de scrape bepalen\n",
    "        for key in redisCon.scan_iter():\n",
    "            key = str(key)[2:-1:]\n",
    "            test = str(redisCon.get(key))[2:-1:]\n",
    "            \n",
    "            dict = ast.literal_eval(test)\n",
    "            \n",
    "            if dict[\"BTC-value\"] > BTC:\n",
    "                BTC = dict[\"BTC-value\"]\n",
    "                BTC_dict = dict\n",
    "            \n",
    "            redisCon.delete(key)\n",
    "\n",
    "        #database updaten, als deze nog niet bestaat wordt deze aangemaakt\n",
    "        hashes_db = client[\"Hashes\"]\n",
    "        col_hashes = hashes_db[\"Hashes\"]\n",
    "    \n",
    "        try :\n",
    "            if BTC_dict:\n",
    "                x = col_hashes.insert_one(BTC_dict)\n",
    "                #print(x.inserted_id)\n",
    "                #print(BTC_dict)\n",
    "\n",
    "                BTC_dict = {}\n",
    "            else:\n",
    "                pass\n",
    "                        \n",
    "        except :\n",
    "            pass"
   ]
  },
  {
   "cell_type": "code",
   "execution_count": null,
   "id": "5f4ce6fe",
   "metadata": {},
   "outputs": [],
   "source": []
  }
 ],
 "metadata": {
  "kernelspec": {
   "display_name": "Python 3 (ipykernel)",
   "language": "python",
   "name": "python3"
  },
  "language_info": {
   "codemirror_mode": {
    "name": "ipython",
    "version": 3
   },
   "file_extension": ".py",
   "mimetype": "text/x-python",
   "name": "python",
   "nbconvert_exporter": "python",
   "pygments_lexer": "ipython3",
   "version": "3.9.7"
  }
 },
 "nbformat": 4,
 "nbformat_minor": 5
}
