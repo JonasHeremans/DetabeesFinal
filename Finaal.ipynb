{
 "cells": [
  {
   "cell_type": "code",
   "execution_count": 1,
   "id": "2a830693",
   "metadata": {},
   "outputs": [],
   "source": [
    "###Libs importeren\n",
    "import requests\n",
    "from bs4 import BeautifulSoup as bs\n",
    "\n",
    "import pandas as pd\n",
    "\n",
    "import redis\n",
    "#json dumps\n",
    "import json"
   ]
  },
  {
   "cell_type": "code",
   "execution_count": 2,
   "id": "d60c6c8d",
   "metadata": {},
   "outputs": [],
   "source": [
    "##ik heb geprobeerd om zoveel mogenlijk in OO te werken"
   ]
  },
  {
   "cell_type": "code",
   "execution_count": 3,
   "id": "6c1f5b75",
   "metadata": {},
   "outputs": [],
   "source": [
    "##Code scripting vorig jaar hergebruiken\n",
    "def htmlFilter(URL):\n",
    "    page = requests.get(URL)\n",
    "    soup = bs(page.content)\n",
    "    \n",
    "    #classes voor zowel de nummers als de hashes zoeken\n",
    "    results_numbers = soup.find_all(\"span\", {'class' : 'sc-1ryi78w-0 cILyoi sc-16b9dsl-1 ZwupP u3ufsr-0 eQTRKC'})\n",
    "    results_hash = soup.find_all(\"a\", {'class' : 'sc-1r996ns-0 fLwyDF sc-1tbyx6t-1 kCGMTY iklhnl-0 eEewhk d53qjk-0 ctEFcK'})\n",
    "    \n",
    "    return results_numbers, results_hash"
   ]
  },
  {
   "cell_type": "code",
   "execution_count": 4,
   "id": "77b45108",
   "metadata": {},
   "outputs": [],
   "source": [
    "##Op youtube raden ze me aan om een dataframe in pandas te maken, dit hebben we geleerd in data science en data vis\n",
    "def pandaDF(hash, time, BTC, USD):\n",
    "    dataF = {'_id' : hash, 'Time' : time, 'BTC-value' : BTC, 'USD-value' : USD}\n",
    "    frameUpdate = pd.DataFrame(dataF)\n",
    "    \n",
    "    #altijd eerst wat data cleanen doen\n",
    "    frameUpdate['BTC-value'] = frameUpdate['BTC-value'].map(lambda x: x.rstrip(' BTC'))\n",
    "    frameUpdate['BTC-value'] = frameUpdate['BTC-value'].str.replace(r'\\,', '')\n",
    "    frameUpdate['BTC-value'] = frameUpdate['BTC-value'].astype('float')\n",
    "    \n",
    "    frameUpdate['USD-value'] = frameUpdate['USD-value'].map(lambda x: x.lstrip('$'))\n",
    "    frameUpdate['USD-value'] = frameUpdate['USD-value'].str.replace(r'\\,', '')\n",
    "    frameUpdate['USD-value'] = frameUpdate['USD-value'].astype('float')\n",
    "    \n",
    "    \n",
    "    return frameUpdate\n"
   ]
  },
  {
   "cell_type": "code",
   "execution_count": 5,
   "id": "c5d82324",
   "metadata": {},
   "outputs": [],
   "source": [
    "def tussenArrays(numbers, hash):\n",
    "    ### heb gedubbelchecked en de values staan steeds op dezelfde plek in de array numbers\n",
    "    \n",
    "    only_time =[]\n",
    "    only_BTC =[]\n",
    "    only_USD=[]\n",
    "    only_hash = [content.get_text() for content in hash]\n",
    "    \n",
    "    for i in range(len(numbers)):\n",
    "        if(i%3==0):\n",
    "            only_time.append(numbers[i].get_text())\n",
    "        if(i%3==1):\n",
    "            only_BTC.append(numbers[i].get_text())\n",
    "        if(i%3==2):\n",
    "            only_USD.append(numbers[i].get_text())\n",
    "            \n",
    "    return only_hash, only_time, only_BTC, only_USD"
   ]
  },
  {
   "cell_type": "code",
   "execution_count": 6,
   "id": "42bf9933",
   "metadata": {},
   "outputs": [],
   "source": [
    "def zoeken(URL):\n",
    "    ##drie vorige functies nu samen uitvoeren\n",
    "    ##eerst de html zoeken vervolgens alle data in de juiste arrays steken om ten slotte ze in een pandas dataframe te steken\n",
    "    #HTML-doorzoeken en alles ophalen\n",
    "    numbers, hash = htmlFilter(URL)\n",
    "\n",
    "    #Hash time btc usd in arrays steken\n",
    "    only_hash, only_time, only_BTC, only_USD = tussenArrays(numbers, hash)\n",
    "\n",
    "    #Make dataframe\n",
    "    frame = pandaDF(only_hash, only_time, only_BTC, only_USD)\n",
    "    \n",
    "    return frame"
   ]
  },
  {
   "cell_type": "code",
   "execution_count": 7,
   "id": "e029e656",
   "metadata": {},
   "outputs": [
    {
     "data": {
      "text/plain": [
       "True"
      ]
     },
     "execution_count": 7,
     "metadata": {},
     "output_type": "execute_result"
    }
   ],
   "source": [
    "##Redis verbinding\n",
    "redisCon = redis.Redis(host=\"localhost\", port=8081)\n",
    "redisCon.flushdb()"
   ]
  },
  {
   "cell_type": "code",
   "execution_count": null,
   "id": "713bf994",
   "metadata": {},
   "outputs": [
    {
     "name": "stderr",
     "output_type": "stream",
     "text": [
      "C:\\Users\\32474\\AppData\\Local\\Temp/ipykernel_24080/4205679505.py:8: FutureWarning: The default value of regex will change from True to False in a future version.\n",
      "  frameUpdate['BTC-value'] = frameUpdate['BTC-value'].str.replace(r'\\,', '')\n",
      "C:\\Users\\32474\\AppData\\Local\\Temp/ipykernel_24080/4205679505.py:12: FutureWarning: The default value of regex will change from True to False in a future version.\n",
      "  frameUpdate['USD-value'] = frameUpdate['USD-value'].str.replace(r'\\,', '')\n"
     ]
    }
   ],
   "source": [
    "##stackoverflow\n",
    "while True:\n",
    "        URL = \"https://www.blockchain.com/btc/unconfirmed-transactions\"\n",
    "        frame_new = zoeken(URL)\n",
    "        \n",
    "        js = frame_new.to_dict(orient=\"records\")\n",
    "        \n",
    "        for element in js: \n",
    "            redisCon.set(element[\"_id\"], json.dumps(element), ex=210)"
   ]
  }
 ],
 "metadata": {
  "kernelspec": {
   "display_name": "Python 3 (ipykernel)",
   "language": "python",
   "name": "python3"
  },
  "language_info": {
   "codemirror_mode": {
    "name": "ipython",
    "version": 3
   },
   "file_extension": ".py",
   "mimetype": "text/x-python",
   "name": "python",
   "nbconvert_exporter": "python",
   "pygments_lexer": "ipython3",
   "version": "3.9.7"
  }
 },
 "nbformat": 4,
 "nbformat_minor": 5
}
